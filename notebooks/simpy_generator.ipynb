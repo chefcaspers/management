{
 "cells": [
  {
   "cell_type": "code",
   "execution_count": 0,
   "metadata": {
    "application/vnd.databricks.v1+cell": {
     "cellMetadata": {
      "byteLimit": 2048000,
      "rowLimit": 10000
     },
     "inputWidgets": {},
     "nuid": "928fe9ad-67ce-4761-b67f-38e8b46d2a0a",
     "showTitle": false,
     "tableResultSettingsMap": {},
     "title": ""
    }
   },
   "outputs": [],
   "source": [
    "%pip install simpy Flask-SQLAlchemy"
   ]
  },
  {
   "cell_type": "code",
   "execution_count": 0,
   "metadata": {
    "application/vnd.databricks.v1+cell": {
     "cellMetadata": {
      "byteLimit": 2048000,
      "rowLimit": 10000
     },
     "inputWidgets": {},
     "nuid": "b4927e69-18cb-428e-bd78-e4c4d4cfdacc",
     "showTitle": false,
     "tableResultSettingsMap": {},
     "title": ""
    }
   },
   "outputs": [],
   "source": [
    "import uuid, random, json, sys\n",
    "from datetime import datetime, timedelta\n",
    "import simpy\n",
    "from simpy.rt import RealtimeEnvironment\n",
    "from sqlalchemy import create_engine\n",
    "from sqlalchemy.orm import sessionmaker\n",
    "\n",
    "# ── quick relative import ────────────────────────────────────────────────────\n",
    "sys.path.append(\"../backend\")\n",
    "from models import Brand\n",
    "\n",
    "# ── CONFIG ───────────────────────────────────────────────────────────────────\n",
    "AVG_DAILY_ORDERS = 5                          # your target average\n",
    "SIM_LOOKBACK_DAYS = 5                         # how far back to back‑fill\n",
    "\n",
    "DB_URL = # FILL ME IN\n",
    "\n",
    "# ── TIMING CUTOFFS ───────────────────────────────────────────────────────────\n",
    "START_NOW = datetime.utcnow().replace(microsecond=0)       # second‑level cutoff\n",
    "SIM_START = START_NOW - timedelta(days=SIM_LOOKBACK_DAYS)\n",
    "\n",
    "# ── DB & LOOK‑UPS ────────────────────────────────────────────────────────────\n",
    "session = sessionmaker(bind=create_engine(DB_URL))()\n",
    "brands = session.query(Brand).all()\n",
    "items_by_brand = {b.id: [i for c in b.menu.categories for i in c.items]\n",
    "                  for b in brands if b.menu}\n",
    "\n",
    "# ── HELPERS ──────────────────────────────────────────────────────────────────\n",
    "def daily_order_count(day):\n",
    "    bump  = [0.8, 0.9, 1.0, 1.1, 1.2, 1.5, 1.3][day.weekday()]         # Fri/Sat spike\n",
    "    return int(AVG_DAILY_ORDERS * bump * random.uniform(0.85, 1.15))\n",
    "\n",
    "def generate_order(ts=None):\n",
    "    brand  = random.choice(brands)\n",
    "    items  = random.sample(items_by_brand[brand.id], k=random.randint(1, 3))\n",
    "    return {\n",
    "        \"order_id\": str(uuid.uuid4()),\n",
    "        \"timestamp\": (ts or datetime.utcnow()).isoformat(),\n",
    "        \"customer\": random.choice([\"Alice\", \"Bob\", \"Charlie\", \"Dana\"]),\n",
    "        \"address\":  \"123 Any St.\",\n",
    "        \"brand\":    brand.name,\n",
    "        \"items\":    [{\"id\": i.id, \"name\": i.name, \"price\": i.price} for i in items],\n",
    "        \"total\":    round(sum(i.price for i in items), 2),\n",
    "    }\n",
    "\n",
    "def send(evt):\n",
    "    print(json.dumps(evt))\n",
    "\n",
    "# ── BACK‑FILL PROCESS (up to START_NOW‑1 s) ──────────────────────────────────\n",
    "def backfill(env):\n",
    "    day = SIM_START.date()\n",
    "    today = START_NOW.date()\n",
    "\n",
    "    while day <= today:\n",
    "        # seconds in the day we are allowed to use\n",
    "        if day < today:\n",
    "            end_sec = 86_400                                # full day\n",
    "        else:\n",
    "            end_sec = int((START_NOW - datetime.combine(day, datetime.min.time())\n",
    "                           ).total_seconds())               # up‑to‑second cutoff\n",
    "        if end_sec == 0:    # Script started at exact midnight; nothing to back‑fill\n",
    "            break\n",
    "\n",
    "        # scale order count by fraction of the day available (for cutoff day)\n",
    "        fraction = end_sec / 86_400\n",
    "        n_orders = max(1, int(daily_order_count(day) * fraction))\n",
    "\n",
    "        secs = sorted(random.randrange(end_sec) for _ in range(n_orders))\n",
    "        for sec in secs:\n",
    "            ts = datetime.combine(day, datetime.min.time()) + timedelta(seconds=sec)\n",
    "            send(generate_order(ts))\n",
    "            yield env.timeout(0)     # keep generator alive\n",
    "\n",
    "        day += timedelta(days=1)\n",
    "\n",
    "# ── REAL‑TIME PROCESS (wall‑clock) ───────────────────────────────────────────\n",
    "def realtime(env):\n",
    "    while True:\n",
    "        l = AVG_DAILY_ORDERS / 86_400\n",
    "        yield env.timeout(random.expovariate(l))     # real seconds, thanks to RT env\n",
    "        send(generate_order())\n",
    "\n",
    "# ── EXECUTION ────────────────────────────────────────────────────────────────\n",
    "print(\"backfill …\")\n",
    "hist_env = simpy.Environment()\n",
    "hist_env.process(backfill(hist_env))\n",
    "hist_env.run()                                       # completes instantly\n",
    "\n",
    "print(\"realtime …\")\n",
    "rt_env = RealtimeEnvironment(factor=1)               # sim‑sec == real‑sec\n",
    "rt_env.process(realtime(rt_env))\n",
    "rt_env.run()                                         # runs indefinitely"
   ]
  }
 ],
 "metadata": {
  "application/vnd.databricks.v1+notebook": {
   "computePreferences": null,
   "dashboards": [],
   "environmentMetadata": {
    "base_environment": "",
    "environment_version": "2"
   },
   "inputWidgetPreferences": null,
   "language": "python",
   "notebookMetadata": {
    "pythonIndentUnit": 4
   },
   "notebookName": "simpy_generator",
   "widgets": {}
  },
  "language_info": {
   "name": "python"
  }
 },
 "nbformat": 4,
 "nbformat_minor": 0
}
