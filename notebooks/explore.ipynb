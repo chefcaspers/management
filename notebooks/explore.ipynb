{
 "cells": [
  {
   "cell_type": "code",
   "execution_count": 2,
   "id": "b097a562",
   "metadata": {},
   "outputs": [],
   "source": [
    "import h3\n",
    "import os\n",
    "import polars as pl\n",
    "from plotly.subplots import make_subplots\n",
    "import plotly.graph_objects as go\n",
    "import plotly.express as px\n",
    "import folium"
   ]
  },
  {
   "cell_type": "code",
   "execution_count": 3,
   "id": "d4029d85",
   "metadata": {},
   "outputs": [],
   "source": [
    "# create data directories\n",
    "os.makedirs(\"./data/objects\", exist_ok=True)\n",
    "os.makedirs(\"./data/people\", exist_ok=True)"
   ]
  },
  {
   "cell_type": "code",
   "execution_count": 4,
   "id": "68870f04",
   "metadata": {},
   "outputs": [],
   "source": [
    "# delete all files in data directories\n",
    "for file in os.listdir(\"./data/objects\"):\n",
    "    os.remove(os.path.join(\"./data/objects\", file))\n",
    "for file in os.listdir(\"./data/people\"):\n",
    "    os.remove(os.path.join(\"./data/people\", file))\n"
   ]
  },
  {
   "cell_type": "code",
   "execution_count": 8,
   "id": "2b3c00f4",
   "metadata": {},
   "outputs": [],
   "source": [
    "objects = pl.read_parquet(\"./data/objects/\")\n",
    "people = pl.read_parquet(\"./data/people/\")\n",
    "orders = pl.read_parquet(\"./data/sites/10596657-995b-5410-8033-2f6d7dd6c71f/orders\")\n",
    "lines = pl.read_parquet(\"./data/sites/10596657-995b-5410-8033-2f6d7dd6c71f/lines\")\n",
    "\n",
    "orders_counts = pl.sql(\"SELECT status, count(*) as count FROM orders GROUP BY status\").collect()\n",
    "lines_counts = pl.sql(\"SELECT status, count(*) as count FROM lines GROUP BY status\").collect()\n",
    "people_counts = pl.sql(\"SELECT role, count(*) as count FROM people GROUP BY role\").collect()\n",
    "object_counts = pl.sql(\"SELECT label, count(*) as count FROM objects GROUP BY label\").collect()"
   ]
  },
  {
   "cell_type": "code",
   "execution_count": null,
   "id": "3bdb9761",
   "metadata": {},
   "outputs": [],
   "source": [
    "# Create subplot with 1 row and 2 columns\n",
    "fig = make_subplots(rows=1, cols=2, specs=[[{\"type\": \"pie\"}, {\"type\": \"pie\"}]])\n",
    "\n",
    "# Add object counts pie chart\n",
    "fig.add_trace(\n",
    "    go.Pie(\n",
    "        labels=object_counts['label'].to_list(),\n",
    "        values=object_counts['count'].to_list(),\n",
    "        name=\"Objects\",\n",
    "        title=\"Object Types\",\n",
    "        showlegend=True,\n",
    "        legendgroup=\"objects\",\n",
    "    ),\n",
    "    row=1, col=1\n",
    ")\n",
    "\n",
    "# Add people counts pie chart\n",
    "fig.add_trace(\n",
    "    go.Pie(\n",
    "        labels=people_counts['role'].to_list(),\n",
    "        values=people_counts['count'].to_list(),\n",
    "        name=\"People\",\n",
    "        title=\"People Roles\",\n",
    "        showlegend=True,\n",
    "        legendgroup=\"people\",\n",
    "    ),\n",
    "    row=1, col=2\n",
    ")\n",
    "\n",
    "# Update layout\n",
    "fig.update_layout(\n",
    "    title_text=\"Data Composition Analysis\",\n",
    "    height=500,\n",
    "    showlegend=True,\n",
    "    template=\"plotly_dark\",\n",
    ")\n",
    "\n",
    "fig"
   ]
  },
  {
   "cell_type": "code",
   "execution_count": null,
   "id": "b5913a8c",
   "metadata": {},
   "outputs": [],
   "source": [
    "lng, lat = -0.13381370382489707, 51.518898098201326\n",
    "resolution = 6\n",
    "\n",
    "# Create a map centered on the first person's location\n",
    "m = folium.Map(\n",
    "    location=[lat, lng],\n",
    "    zoom_start=13,\n",
    "    tiles=\"CartoDB dark_matter\",  # Dark theme map\n",
    ")\n",
    "\n",
    "# folium.TileLayer(\"OpenStreetMap\").add_to(m)\n",
    "# folium.TileLayer(show=False).add_to(m)\n",
    "# folium.LayerControl().add_to(m)\n",
    "\n",
    "cell = h3.latlng_to_cell(lat, lng, resolution)\n",
    "polygon = h3.cells_to_geo([cell])\n",
    "folium.GeoJson(polygon).add_to(m)\n",
    "\n",
    "for row in people.select([\"position\", \"role\"]).rows():\n",
    "    lat, lon = row[0]\n",
    "    folium.Marker(\n",
    "        location=[lon, lat],\n",
    "        popup=\"Person\",\n",
    "        icon=folium.Icon(color=\"blue\" if row[1] == \"customer\" else \"red\", icon=\"user\", prefix=\"fa\"),\n",
    "    ).add_to(m)\n",
    "\n",
    "m"
   ]
  }
 ],
 "metadata": {
  "kernelspec": {
   "display_name": ".venv",
   "language": "python",
   "name": "python3"
  },
  "language_info": {
   "codemirror_mode": {
    "name": "ipython",
    "version": 3
   },
   "file_extension": ".py",
   "mimetype": "text/x-python",
   "name": "python",
   "nbconvert_exporter": "python",
   "pygments_lexer": "ipython3",
   "version": "3.13.2"
  }
 },
 "nbformat": 4,
 "nbformat_minor": 2
}
